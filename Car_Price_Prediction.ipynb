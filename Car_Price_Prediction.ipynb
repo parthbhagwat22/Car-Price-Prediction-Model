{
 "cells": [
  {
   "cell_type": "markdown",
   "id": "1a2cf394",
   "metadata": {},
   "source": [
    "# 🚗 Car Price Prediction using Machine Learning\n",
    "\n",
    "This notebook presents a machine learning project aimed at predicting the price of cars based on various features like make, model, mileage, engine specs, and more."
   ]
  },
  {
   "cell_type": "code",
   "execution_count": 3,
   "id": "7bbc1be0-7dc1-4e67-b86d-006c3c8d5a15",
   "metadata": {},
   "outputs": [],
   "source": [
    "import pandas as pd "
   ]
  },
  {
   "cell_type": "markdown",
   "id": "ff6cba71",
   "metadata": {},
   "source": [
    "## 📂 Dataset Overview\n",
    "\n",
    "We are using a dataset named `cars_ds_final_2021.csv` which includes the following relevant features:\n",
    "- Make\n",
    "- Model\n",
    "- Variant\n",
    "- Ex-Showroom_Price\n",
    "- Displacement\n",
    "- Cylinders\n",
    "- Fuel_Type\n",
    "- Ground_Clearance\n",
    "- Power\n",
    "- Torque\n",
    "- Type\n",
    "- ARAI_Certified_Mileage"
   ]
  },
  {
   "cell_type": "code",
   "execution_count": 4,
   "id": "86765763-07a5-4a78-acdd-04ae63b022bd",
   "metadata": {},
   "outputs": [],
   "source": [
    "car = pd.read_csv('cars_ds_final_2021.csv')"
   ]
  },
  {
   "cell_type": "code",
   "execution_count": 5,
   "id": "fc138e2e-9799-420e-9e9b-7b274957735a",
   "metadata": {},
   "outputs": [],
   "source": [
    "car=car[['Make', 'Model', 'Variant', 'Ex-Showroom_Price', 'Displacement', 'Cylinders','Fuel_Type','Ground_Clearance','Power','Torque','Type','ARAI_Certified_Mileage']]"
   ]
  },
  {
   "cell_type": "markdown",
   "id": "d530f321",
   "metadata": {},
   "source": [
    "## 🧼 Data Preprocessing\n",
    "\n",
    "Here, we clean and prepare the data for modeling. This includes selecting relevant columns and handling missing values if any."
   ]
  },
  {
   "cell_type": "code",
   "execution_count": 6,
   "id": "01494ec1-6d2f-4e3c-8745-c74553582f1b",
   "metadata": {},
   "outputs": [
    {
     "name": "stdout",
     "output_type": "stream",
     "text": [
      "<class 'pandas.core.frame.DataFrame'>\n",
      "RangeIndex: 1267 entries, 0 to 1266\n",
      "Data columns (total 12 columns):\n",
      " #   Column                  Non-Null Count  Dtype  \n",
      "---  ------                  --------------  -----  \n",
      " 0   Make                    1192 non-null   object \n",
      " 1   Model                   1267 non-null   object \n",
      " 2   Variant                 1267 non-null   object \n",
      " 3   Ex-Showroom_Price       1267 non-null   object \n",
      " 4   Displacement            1255 non-null   object \n",
      " 5   Cylinders               1201 non-null   float64\n",
      " 6   Fuel_Type               1267 non-null   object \n",
      " 7   Ground_Clearance        977 non-null    object \n",
      " 8   Power                   1267 non-null   object \n",
      " 9   Torque                  1265 non-null   object \n",
      " 10  Type                    1266 non-null   object \n",
      " 11  ARAI_Certified_Mileage  1151 non-null   object \n",
      "dtypes: float64(1), object(11)\n",
      "memory usage: 118.9+ KB\n"
     ]
    }
   ],
   "source": [
    "car.info()"
   ]
  },
  {
   "cell_type": "code",
   "execution_count": 7,
   "id": "d70cb675-3f1c-48e9-9d01-3578aaa83f19",
   "metadata": {},
   "outputs": [],
   "source": [
    "car[\"Ex-Showroom_Price\"]=(\n",
    "    car[\"Ex-Showroom_Price\"]\n",
    "        .str.replace(\"Rs\", \"\",regex=False)\n",
    "        .str.replace(\".\", \"\",regex=False)\n",
    "        .str.replace(\",\",\"\",regex=False)\n",
    "        .str.strip()\n",
    "        .astype(int)\n",
    ")"
   ]
  },
  {
   "cell_type": "code",
   "execution_count": 8,
   "id": "491ab635-555c-4896-b3c7-b8b06176398a",
   "metadata": {},
   "outputs": [],
   "source": [
    "car['Displacement']=car['Displacement'].str.replace('cc','',regex=False)"
   ]
  },
  {
   "cell_type": "code",
   "execution_count": 9,
   "id": "b2e520de-c715-4e8e-bd1f-1896b09c885c",
   "metadata": {},
   "outputs": [],
   "source": [
    "car['Ground_Clearance']=car['Ground_Clearance'].str.replace(\"mm\",\"\",regex=False)"
   ]
  },
  {
   "cell_type": "code",
   "execution_count": 10,
   "id": "df374184-f572-4c4d-9fae-dbeb2b744797",
   "metadata": {},
   "outputs": [],
   "source": [
    "car['Power']=car['Power'].str.extract(r'(\\d+)')\n"
   ]
  },
  {
   "cell_type": "code",
   "execution_count": 11,
   "id": "4379f0be-8cec-4fe2-b514-dd93b9f5d12d",
   "metadata": {},
   "outputs": [],
   "source": [
    "car[\"Torque\"]=car[\"Torque\"].str.extract(r'(\\d+)')"
   ]
  },
  {
   "cell_type": "code",
   "execution_count": 12,
   "id": "4eab470c-b556-4713-ab52-8c30633b7263",
   "metadata": {},
   "outputs": [],
   "source": [
    "car['ARAI_Certified_Mileage']=car['ARAI_Certified_Mileage'].str.extract(r'(\\d+)')"
   ]
  },
  {
   "cell_type": "code",
   "execution_count": 13,
   "id": "e76dcc38-13cd-4a9e-9867-a31ed2f40a72",
   "metadata": {},
   "outputs": [],
   "source": [
    "car=car[car[\"Ex-Showroom_Price\"]<5000000]"
   ]
  },
  {
   "cell_type": "code",
   "execution_count": 14,
   "id": "ac8ad6c2-b2cc-4f80-bf97-08dd8df96bc9",
   "metadata": {},
   "outputs": [],
   "source": [
    "car['Cylinders'] = car['Cylinders'].astype(float)"
   ]
  },
  {
   "cell_type": "code",
   "execution_count": 15,
   "id": "3d30e053-b3ad-4bbc-98e0-6a3f1987d2f6",
   "metadata": {},
   "outputs": [],
   "source": [
    "car['Cylinders'] = car['Cylinders'].astype('Int64')\n"
   ]
  },
  {
   "cell_type": "code",
   "execution_count": 16,
   "id": "7596ecb1-b9f6-4108-9a63-698fb8128b01",
   "metadata": {},
   "outputs": [],
   "source": [
    "car = car.drop(columns='Variant')"
   ]
  },
  {
   "cell_type": "code",
   "execution_count": 17,
   "id": "e6e55395-d457-4ce8-b623-6dd08c0f5cf9",
   "metadata": {},
   "outputs": [
    {
     "data": {
      "text/html": [
       "<div>\n",
       "<style scoped>\n",
       "    .dataframe tbody tr th:only-of-type {\n",
       "        vertical-align: middle;\n",
       "    }\n",
       "\n",
       "    .dataframe tbody tr th {\n",
       "        vertical-align: top;\n",
       "    }\n",
       "\n",
       "    .dataframe thead th {\n",
       "        text-align: right;\n",
       "    }\n",
       "</style>\n",
       "<table border=\"1\" class=\"dataframe\">\n",
       "  <thead>\n",
       "    <tr style=\"text-align: right;\">\n",
       "      <th></th>\n",
       "      <th>Make</th>\n",
       "      <th>Model</th>\n",
       "      <th>Ex-Showroom_Price</th>\n",
       "      <th>Displacement</th>\n",
       "      <th>Cylinders</th>\n",
       "      <th>Fuel_Type</th>\n",
       "      <th>Ground_Clearance</th>\n",
       "      <th>Power</th>\n",
       "      <th>Torque</th>\n",
       "      <th>Type</th>\n",
       "      <th>ARAI_Certified_Mileage</th>\n",
       "    </tr>\n",
       "  </thead>\n",
       "  <tbody>\n",
       "    <tr>\n",
       "      <th>0</th>\n",
       "      <td>Tata</td>\n",
       "      <td>Nano Genx</td>\n",
       "      <td>292667</td>\n",
       "      <td>624</td>\n",
       "      <td>2</td>\n",
       "      <td>Petrol</td>\n",
       "      <td>180</td>\n",
       "      <td>38</td>\n",
       "      <td>51</td>\n",
       "      <td>Manual</td>\n",
       "      <td>23</td>\n",
       "    </tr>\n",
       "    <tr>\n",
       "      <th>1</th>\n",
       "      <td>Tata</td>\n",
       "      <td>Nano Genx</td>\n",
       "      <td>236447</td>\n",
       "      <td>624</td>\n",
       "      <td>2</td>\n",
       "      <td>Petrol</td>\n",
       "      <td>180</td>\n",
       "      <td>38</td>\n",
       "      <td>51</td>\n",
       "      <td>Manual</td>\n",
       "      <td>23</td>\n",
       "    </tr>\n",
       "    <tr>\n",
       "      <th>2</th>\n",
       "      <td>Tata</td>\n",
       "      <td>Nano Genx</td>\n",
       "      <td>296661</td>\n",
       "      <td>624</td>\n",
       "      <td>2</td>\n",
       "      <td>CNG</td>\n",
       "      <td>180</td>\n",
       "      <td>38</td>\n",
       "      <td>51</td>\n",
       "      <td>Manual</td>\n",
       "      <td>NaN</td>\n",
       "    </tr>\n",
       "    <tr>\n",
       "      <th>3</th>\n",
       "      <td>Tata</td>\n",
       "      <td>Nano Genx</td>\n",
       "      <td>334768</td>\n",
       "      <td>624</td>\n",
       "      <td>2</td>\n",
       "      <td>Petrol</td>\n",
       "      <td>180</td>\n",
       "      <td>38</td>\n",
       "      <td>51</td>\n",
       "      <td>Automatic</td>\n",
       "      <td>21</td>\n",
       "    </tr>\n",
       "    <tr>\n",
       "      <th>4</th>\n",
       "      <td>Tata</td>\n",
       "      <td>Nano Genx</td>\n",
       "      <td>272223</td>\n",
       "      <td>624</td>\n",
       "      <td>2</td>\n",
       "      <td>Petrol</td>\n",
       "      <td>180</td>\n",
       "      <td>38</td>\n",
       "      <td>51</td>\n",
       "      <td>Manual</td>\n",
       "      <td>23</td>\n",
       "    </tr>\n",
       "    <tr>\n",
       "      <th>...</th>\n",
       "      <td>...</td>\n",
       "      <td>...</td>\n",
       "      <td>...</td>\n",
       "      <td>...</td>\n",
       "      <td>...</td>\n",
       "      <td>...</td>\n",
       "      <td>...</td>\n",
       "      <td>...</td>\n",
       "      <td>...</td>\n",
       "      <td>...</td>\n",
       "      <td>...</td>\n",
       "    </tr>\n",
       "    <tr>\n",
       "      <th>1258</th>\n",
       "      <td>Mahindra</td>\n",
       "      <td>Verito</td>\n",
       "      <td>748370</td>\n",
       "      <td>1461</td>\n",
       "      <td>4</td>\n",
       "      <td>Diesel</td>\n",
       "      <td>172</td>\n",
       "      <td>65</td>\n",
       "      <td>160</td>\n",
       "      <td>Manual</td>\n",
       "      <td>21</td>\n",
       "    </tr>\n",
       "    <tr>\n",
       "      <th>1259</th>\n",
       "      <td>Mahindra</td>\n",
       "      <td>Verito</td>\n",
       "      <td>772617</td>\n",
       "      <td>1461</td>\n",
       "      <td>4</td>\n",
       "      <td>Diesel</td>\n",
       "      <td>172</td>\n",
       "      <td>65</td>\n",
       "      <td>160</td>\n",
       "      <td>Manual</td>\n",
       "      <td>21</td>\n",
       "    </tr>\n",
       "    <tr>\n",
       "      <th>1260</th>\n",
       "      <td>Mahindra</td>\n",
       "      <td>Verito</td>\n",
       "      <td>845154</td>\n",
       "      <td>1461</td>\n",
       "      <td>4</td>\n",
       "      <td>Diesel</td>\n",
       "      <td>172</td>\n",
       "      <td>120</td>\n",
       "      <td>280</td>\n",
       "      <td>Manual</td>\n",
       "      <td>21</td>\n",
       "    </tr>\n",
       "    <tr>\n",
       "      <th>1264</th>\n",
       "      <td>Mahindra</td>\n",
       "      <td>Alturas G4</td>\n",
       "      <td>2770150</td>\n",
       "      <td>2157</td>\n",
       "      <td>4</td>\n",
       "      <td>Diesel</td>\n",
       "      <td>NaN</td>\n",
       "      <td>178</td>\n",
       "      <td>420</td>\n",
       "      <td>Automatic</td>\n",
       "      <td>12</td>\n",
       "    </tr>\n",
       "    <tr>\n",
       "      <th>1265</th>\n",
       "      <td>Mahindra</td>\n",
       "      <td>Alturas G4</td>\n",
       "      <td>3070150</td>\n",
       "      <td>2157</td>\n",
       "      <td>4</td>\n",
       "      <td>Diesel</td>\n",
       "      <td>NaN</td>\n",
       "      <td>178</td>\n",
       "      <td>420</td>\n",
       "      <td>Automatic</td>\n",
       "      <td>12</td>\n",
       "    </tr>\n",
       "  </tbody>\n",
       "</table>\n",
       "<p>1031 rows × 11 columns</p>\n",
       "</div>"
      ],
      "text/plain": [
       "          Make       Model  Ex-Showroom_Price Displacement  Cylinders  \\\n",
       "0         Tata   Nano Genx             292667         624           2   \n",
       "1         Tata   Nano Genx             236447         624           2   \n",
       "2         Tata   Nano Genx             296661         624           2   \n",
       "3         Tata   Nano Genx             334768         624           2   \n",
       "4         Tata   Nano Genx             272223         624           2   \n",
       "...        ...         ...                ...          ...        ...   \n",
       "1258  Mahindra      Verito             748370        1461           4   \n",
       "1259  Mahindra      Verito             772617        1461           4   \n",
       "1260  Mahindra      Verito             845154        1461           4   \n",
       "1264  Mahindra  Alturas G4            2770150        2157           4   \n",
       "1265  Mahindra  Alturas G4            3070150        2157           4   \n",
       "\n",
       "     Fuel_Type Ground_Clearance Power Torque       Type ARAI_Certified_Mileage  \n",
       "0       Petrol             180     38     51     Manual                     23  \n",
       "1       Petrol             180     38     51     Manual                     23  \n",
       "2          CNG             180     38     51     Manual                    NaN  \n",
       "3       Petrol             180     38     51  Automatic                     21  \n",
       "4       Petrol             180     38     51     Manual                     23  \n",
       "...        ...              ...   ...    ...        ...                    ...  \n",
       "1258    Diesel             172     65    160     Manual                     21  \n",
       "1259    Diesel             172     65    160     Manual                     21  \n",
       "1260    Diesel             172    120    280     Manual                     21  \n",
       "1264    Diesel              NaN   178    420  Automatic                     12  \n",
       "1265    Diesel              NaN   178    420  Automatic                     12  \n",
       "\n",
       "[1031 rows x 11 columns]"
      ]
     },
     "execution_count": 17,
     "metadata": {},
     "output_type": "execute_result"
    }
   ],
   "source": [
    "car"
   ]
  },
  {
   "cell_type": "code",
   "execution_count": 18,
   "id": "0a76d57d-b7d4-48d6-8711-0cff9fa28929",
   "metadata": {},
   "outputs": [],
   "source": [
    "car= car.dropna(subset=\"Displacement\")"
   ]
  },
  {
   "cell_type": "code",
   "execution_count": 19,
   "id": "2e26e001-3ee4-4d17-b1a7-28a61d5c2146",
   "metadata": {},
   "outputs": [],
   "source": [
    "car = car.dropna(subset=\"Make\")"
   ]
  },
  {
   "cell_type": "code",
   "execution_count": 20,
   "id": "977888cc-db6e-47e3-a8f1-f1cc7146dd8d",
   "metadata": {},
   "outputs": [],
   "source": [
    "car = car.dropna(subset=\"Cylinders\")"
   ]
  },
  {
   "cell_type": "code",
   "execution_count": 21,
   "id": "365a35f9-0583-4389-bf01-f960ea2cba3c",
   "metadata": {},
   "outputs": [
    {
     "data": {
      "text/plain": [
       "Make                        0\n",
       "Model                       0\n",
       "Ex-Showroom_Price           0\n",
       "Displacement                0\n",
       "Cylinders                   0\n",
       "Fuel_Type                   0\n",
       "Ground_Clearance          175\n",
       "Power                       0\n",
       "Torque                      1\n",
       "Type                        0\n",
       "ARAI_Certified_Mileage     56\n",
       "dtype: int64"
      ]
     },
     "execution_count": 21,
     "metadata": {},
     "output_type": "execute_result"
    }
   ],
   "source": [
    "car.isnull().sum()"
   ]
  },
  {
   "cell_type": "code",
   "execution_count": 22,
   "id": "bab62a38-2201-4aca-a77c-a054431a2f93",
   "metadata": {},
   "outputs": [],
   "source": [
    "car = car.dropna(subset=\"Ground_Clearance\")"
   ]
  },
  {
   "cell_type": "code",
   "execution_count": 23,
   "id": "5d1ac36f-ad79-477c-abc0-1a82672fd751",
   "metadata": {},
   "outputs": [],
   "source": [
    "car = car.dropna(subset=\"ARAI_Certified_Mileage\")"
   ]
  },
  {
   "cell_type": "code",
   "execution_count": 24,
   "id": "6ded52c8-fe60-43b4-a0d7-baa273415735",
   "metadata": {},
   "outputs": [],
   "source": [
    "car= car.dropna(subset=\"Torque\")"
   ]
  },
  {
   "cell_type": "code",
   "execution_count": 25,
   "id": "ce5ca345-7d78-4dd6-851f-437762e9de4f",
   "metadata": {},
   "outputs": [
    {
     "data": {
      "text/plain": [
       "Make                      0\n",
       "Model                     0\n",
       "Ex-Showroom_Price         0\n",
       "Displacement              0\n",
       "Cylinders                 0\n",
       "Fuel_Type                 0\n",
       "Ground_Clearance          0\n",
       "Power                     0\n",
       "Torque                    0\n",
       "Type                      0\n",
       "ARAI_Certified_Mileage    0\n",
       "dtype: int64"
      ]
     },
     "execution_count": 25,
     "metadata": {},
     "output_type": "execute_result"
    }
   ],
   "source": [
    "car.isnull().sum()"
   ]
  },
  {
   "cell_type": "code",
   "execution_count": 26,
   "id": "960ee7ba-00ec-4924-bc2c-c90c94022695",
   "metadata": {},
   "outputs": [
    {
     "name": "stdout",
     "output_type": "stream",
     "text": [
      "<class 'pandas.core.frame.DataFrame'>\n",
      "Index: 728 entries, 0 to 1260\n",
      "Data columns (total 11 columns):\n",
      " #   Column                  Non-Null Count  Dtype \n",
      "---  ------                  --------------  ----- \n",
      " 0   Make                    728 non-null    object\n",
      " 1   Model                   728 non-null    object\n",
      " 2   Ex-Showroom_Price       728 non-null    int64 \n",
      " 3   Displacement            728 non-null    object\n",
      " 4   Cylinders               728 non-null    Int64 \n",
      " 5   Fuel_Type               728 non-null    object\n",
      " 6   Ground_Clearance        728 non-null    object\n",
      " 7   Power                   728 non-null    object\n",
      " 8   Torque                  728 non-null    object\n",
      " 9   Type                    728 non-null    object\n",
      " 10  ARAI_Certified_Mileage  728 non-null    object\n",
      "dtypes: Int64(1), int64(1), object(9)\n",
      "memory usage: 69.0+ KB\n"
     ]
    }
   ],
   "source": [
    "car.info()"
   ]
  },
  {
   "cell_type": "code",
   "execution_count": 27,
   "id": "4d4dbd7d-d831-4530-9dc8-dcaf72ce52dd",
   "metadata": {},
   "outputs": [],
   "source": [
    "car['Displacement']=car['Displacement'].astype(int)"
   ]
  },
  {
   "cell_type": "code",
   "execution_count": 28,
   "id": "d7ff113b-c22c-4029-9dc7-82aa88fb13c6",
   "metadata": {},
   "outputs": [],
   "source": [
    "car['Ground_Clearance']=car['Ground_Clearance'].astype(int)"
   ]
  },
  {
   "cell_type": "code",
   "execution_count": 29,
   "id": "1390df90-b43c-411e-a4f4-31ee8a260809",
   "metadata": {},
   "outputs": [],
   "source": [
    "car['Power']=car['Power'].astype(int)"
   ]
  },
  {
   "cell_type": "code",
   "execution_count": 30,
   "id": "bd781599-8605-459a-8adc-e21ddcd5b6c7",
   "metadata": {},
   "outputs": [],
   "source": [
    "car['Torque']=car['Torque'].astype(int)"
   ]
  },
  {
   "cell_type": "code",
   "execution_count": 31,
   "id": "f037a824-674b-48c2-b7b3-9c961712ed82",
   "metadata": {},
   "outputs": [],
   "source": [
    "car['ARAI_Certified_Mileage']=car['ARAI_Certified_Mileage'].astype(int)"
   ]
  },
  {
   "cell_type": "code",
   "execution_count": 32,
   "id": "21aa491b-c921-4659-89ab-e08dba5d0ef0",
   "metadata": {},
   "outputs": [],
   "source": [
    "car['Model']=car['Model'].astype(str)"
   ]
  },
  {
   "cell_type": "code",
   "execution_count": 33,
   "id": "52f92cd1-a26c-4964-ad92-df642419d8c1",
   "metadata": {},
   "outputs": [
    {
     "name": "stdout",
     "output_type": "stream",
     "text": [
      "<class 'pandas.core.frame.DataFrame'>\n",
      "Index: 728 entries, 0 to 1260\n",
      "Data columns (total 11 columns):\n",
      " #   Column                  Non-Null Count  Dtype \n",
      "---  ------                  --------------  ----- \n",
      " 0   Make                    728 non-null    object\n",
      " 1   Model                   728 non-null    object\n",
      " 2   Ex-Showroom_Price       728 non-null    int64 \n",
      " 3   Displacement            728 non-null    int64 \n",
      " 4   Cylinders               728 non-null    Int64 \n",
      " 5   Fuel_Type               728 non-null    object\n",
      " 6   Ground_Clearance        728 non-null    int64 \n",
      " 7   Power                   728 non-null    int64 \n",
      " 8   Torque                  728 non-null    int64 \n",
      " 9   Type                    728 non-null    object\n",
      " 10  ARAI_Certified_Mileage  728 non-null    int64 \n",
      "dtypes: Int64(1), int64(6), object(4)\n",
      "memory usage: 69.0+ KB\n"
     ]
    }
   ],
   "source": [
    "car.info()"
   ]
  },
  {
   "cell_type": "code",
   "execution_count": 34,
   "id": "dff67fcc-f734-4784-a0d7-baabf9824153",
   "metadata": {},
   "outputs": [],
   "source": [
    "car.rename(columns={'Displacement': 'CC'}, inplace=True)"
   ]
  },
  {
   "cell_type": "code",
   "execution_count": 35,
   "id": "1e994770-dcf6-4885-8467-b0ce57498342",
   "metadata": {},
   "outputs": [
    {
     "data": {
      "text/plain": [
       "array(['Manual', 'Automatic', 'AMT', 'CVT', 'DCT'], dtype=object)"
      ]
     },
     "execution_count": 35,
     "metadata": {},
     "output_type": "execute_result"
    }
   ],
   "source": [
    "car[\"Type\"].unique()"
   ]
  },
  {
   "cell_type": "raw",
   "id": "8ce0fd9c-2c63-4090-9cd0-ea6f25092a6d",
   "metadata": {},
   "source": [
    "car['Type'] = car['Type'].str.replace(\"AMT\", \"Automatic\")"
   ]
  },
  {
   "cell_type": "code",
   "execution_count": 36,
   "id": "3d81c731-21fd-465f-af7b-191dc4ffbfeb",
   "metadata": {},
   "outputs": [],
   "source": [
    "car['Type'] = car['Type'].replace({\n",
    "    'AMT': 'Auto',\n",
    "    'CVT': 'Auto',\n",
    "    'DCT': 'Auto',\n",
    "    'Automatic': 'Auto',\n",
    "    'Manual': 'Manual'\n",
    "})\n"
   ]
  },
  {
   "cell_type": "code",
   "execution_count": 37,
   "id": "93db205c-87be-4ae0-b434-ffeafea2615b",
   "metadata": {},
   "outputs": [
    {
     "data": {
      "text/plain": [
       "array(['Manual', 'Auto'], dtype=object)"
      ]
     },
     "execution_count": 37,
     "metadata": {},
     "output_type": "execute_result"
    }
   ],
   "source": [
    "car['Type'].unique()"
   ]
  },
  {
   "cell_type": "code",
   "execution_count": 38,
   "id": "6ba4e6a1-8904-420f-bd30-01e39b6cc040",
   "metadata": {},
   "outputs": [
    {
     "data": {
      "text/plain": [
       "array(['Petrol', 'Diesel', 'Hybrid', 'CNG + Petrol'], dtype=object)"
      ]
     },
     "execution_count": 38,
     "metadata": {},
     "output_type": "execute_result"
    }
   ],
   "source": [
    "car[\"Fuel_Type\"].unique()"
   ]
  },
  {
   "cell_type": "code",
   "execution_count": 39,
   "id": "f96616a4-188e-43da-bfbe-ecb8724b7ae4",
   "metadata": {},
   "outputs": [],
   "source": [
    "car['Fuel_Type']=car['Fuel_Type'].replace({\n",
    "    \"Hybrid\":\"Petrol\",\n",
    "    \"CNG + Petrol\" :\"Petrol\"\n",
    "})\n",
    "    "
   ]
  },
  {
   "cell_type": "code",
   "execution_count": 40,
   "id": "51f25168-8979-4b1f-97e3-60bc769f864c",
   "metadata": {},
   "outputs": [
    {
     "data": {
      "text/plain": [
       "array(['Petrol', 'Diesel'], dtype=object)"
      ]
     },
     "execution_count": 40,
     "metadata": {},
     "output_type": "execute_result"
    }
   ],
   "source": [
    "car[\"Fuel_Type\"].unique()"
   ]
  },
  {
   "cell_type": "code",
   "execution_count": 41,
   "id": "16d480bf-2dc1-43bc-8ca7-b4e467e35918",
   "metadata": {},
   "outputs": [],
   "source": [
    "car.to_csv(\"final_car.csv\",index=False)"
   ]
  },
  {
   "cell_type": "code",
   "execution_count": 42,
   "id": "b56a9a28-05c7-44f5-931f-8376e06cdc85",
   "metadata": {},
   "outputs": [
    {
     "data": {
      "text/html": [
       "<div>\n",
       "<style scoped>\n",
       "    .dataframe tbody tr th:only-of-type {\n",
       "        vertical-align: middle;\n",
       "    }\n",
       "\n",
       "    .dataframe tbody tr th {\n",
       "        vertical-align: top;\n",
       "    }\n",
       "\n",
       "    .dataframe thead th {\n",
       "        text-align: right;\n",
       "    }\n",
       "</style>\n",
       "<table border=\"1\" class=\"dataframe\">\n",
       "  <thead>\n",
       "    <tr style=\"text-align: right;\">\n",
       "      <th></th>\n",
       "      <th>Make</th>\n",
       "      <th>Model</th>\n",
       "      <th>Ex-Showroom_Price</th>\n",
       "      <th>CC</th>\n",
       "      <th>Cylinders</th>\n",
       "      <th>Fuel_Type</th>\n",
       "      <th>Ground_Clearance</th>\n",
       "      <th>Power</th>\n",
       "      <th>Torque</th>\n",
       "      <th>Type</th>\n",
       "      <th>ARAI_Certified_Mileage</th>\n",
       "    </tr>\n",
       "  </thead>\n",
       "  <tbody>\n",
       "    <tr>\n",
       "      <th>0</th>\n",
       "      <td>Tata</td>\n",
       "      <td>Nano Genx</td>\n",
       "      <td>292667</td>\n",
       "      <td>624</td>\n",
       "      <td>2</td>\n",
       "      <td>Petrol</td>\n",
       "      <td>180</td>\n",
       "      <td>38</td>\n",
       "      <td>51</td>\n",
       "      <td>Manual</td>\n",
       "      <td>23</td>\n",
       "    </tr>\n",
       "    <tr>\n",
       "      <th>1</th>\n",
       "      <td>Tata</td>\n",
       "      <td>Nano Genx</td>\n",
       "      <td>236447</td>\n",
       "      <td>624</td>\n",
       "      <td>2</td>\n",
       "      <td>Petrol</td>\n",
       "      <td>180</td>\n",
       "      <td>38</td>\n",
       "      <td>51</td>\n",
       "      <td>Manual</td>\n",
       "      <td>23</td>\n",
       "    </tr>\n",
       "    <tr>\n",
       "      <th>3</th>\n",
       "      <td>Tata</td>\n",
       "      <td>Nano Genx</td>\n",
       "      <td>334768</td>\n",
       "      <td>624</td>\n",
       "      <td>2</td>\n",
       "      <td>Petrol</td>\n",
       "      <td>180</td>\n",
       "      <td>38</td>\n",
       "      <td>51</td>\n",
       "      <td>Auto</td>\n",
       "      <td>21</td>\n",
       "    </tr>\n",
       "    <tr>\n",
       "      <th>4</th>\n",
       "      <td>Tata</td>\n",
       "      <td>Nano Genx</td>\n",
       "      <td>272223</td>\n",
       "      <td>624</td>\n",
       "      <td>2</td>\n",
       "      <td>Petrol</td>\n",
       "      <td>180</td>\n",
       "      <td>38</td>\n",
       "      <td>51</td>\n",
       "      <td>Manual</td>\n",
       "      <td>23</td>\n",
       "    </tr>\n",
       "    <tr>\n",
       "      <th>5</th>\n",
       "      <td>Tata</td>\n",
       "      <td>Nano Genx</td>\n",
       "      <td>314815</td>\n",
       "      <td>624</td>\n",
       "      <td>2</td>\n",
       "      <td>Petrol</td>\n",
       "      <td>180</td>\n",
       "      <td>38</td>\n",
       "      <td>51</td>\n",
       "      <td>Auto</td>\n",
       "      <td>21</td>\n",
       "    </tr>\n",
       "    <tr>\n",
       "      <th>...</th>\n",
       "      <td>...</td>\n",
       "      <td>...</td>\n",
       "      <td>...</td>\n",
       "      <td>...</td>\n",
       "      <td>...</td>\n",
       "      <td>...</td>\n",
       "      <td>...</td>\n",
       "      <td>...</td>\n",
       "      <td>...</td>\n",
       "      <td>...</td>\n",
       "      <td>...</td>\n",
       "    </tr>\n",
       "    <tr>\n",
       "      <th>1255</th>\n",
       "      <td>Jaguar</td>\n",
       "      <td>Xe</td>\n",
       "      <td>4633000</td>\n",
       "      <td>1999</td>\n",
       "      <td>4</td>\n",
       "      <td>Diesel</td>\n",
       "      <td>125</td>\n",
       "      <td>180</td>\n",
       "      <td>430</td>\n",
       "      <td>Auto</td>\n",
       "      <td>11</td>\n",
       "    </tr>\n",
       "    <tr>\n",
       "      <th>1256</th>\n",
       "      <td>Jaguar</td>\n",
       "      <td>Xe</td>\n",
       "      <td>4633000</td>\n",
       "      <td>1997</td>\n",
       "      <td>4</td>\n",
       "      <td>Petrol</td>\n",
       "      <td>125</td>\n",
       "      <td>250</td>\n",
       "      <td>365</td>\n",
       "      <td>Auto</td>\n",
       "      <td>11</td>\n",
       "    </tr>\n",
       "    <tr>\n",
       "      <th>1258</th>\n",
       "      <td>Mahindra</td>\n",
       "      <td>Verito</td>\n",
       "      <td>748370</td>\n",
       "      <td>1461</td>\n",
       "      <td>4</td>\n",
       "      <td>Diesel</td>\n",
       "      <td>172</td>\n",
       "      <td>65</td>\n",
       "      <td>160</td>\n",
       "      <td>Manual</td>\n",
       "      <td>21</td>\n",
       "    </tr>\n",
       "    <tr>\n",
       "      <th>1259</th>\n",
       "      <td>Mahindra</td>\n",
       "      <td>Verito</td>\n",
       "      <td>772617</td>\n",
       "      <td>1461</td>\n",
       "      <td>4</td>\n",
       "      <td>Diesel</td>\n",
       "      <td>172</td>\n",
       "      <td>65</td>\n",
       "      <td>160</td>\n",
       "      <td>Manual</td>\n",
       "      <td>21</td>\n",
       "    </tr>\n",
       "    <tr>\n",
       "      <th>1260</th>\n",
       "      <td>Mahindra</td>\n",
       "      <td>Verito</td>\n",
       "      <td>845154</td>\n",
       "      <td>1461</td>\n",
       "      <td>4</td>\n",
       "      <td>Diesel</td>\n",
       "      <td>172</td>\n",
       "      <td>120</td>\n",
       "      <td>280</td>\n",
       "      <td>Manual</td>\n",
       "      <td>21</td>\n",
       "    </tr>\n",
       "  </tbody>\n",
       "</table>\n",
       "<p>728 rows × 11 columns</p>\n",
       "</div>"
      ],
      "text/plain": [
       "          Make      Model  Ex-Showroom_Price    CC  Cylinders Fuel_Type  \\\n",
       "0         Tata  Nano Genx             292667   624          2    Petrol   \n",
       "1         Tata  Nano Genx             236447   624          2    Petrol   \n",
       "3         Tata  Nano Genx             334768   624          2    Petrol   \n",
       "4         Tata  Nano Genx             272223   624          2    Petrol   \n",
       "5         Tata  Nano Genx             314815   624          2    Petrol   \n",
       "...        ...        ...                ...   ...        ...       ...   \n",
       "1255    Jaguar         Xe            4633000  1999          4    Diesel   \n",
       "1256    Jaguar         Xe            4633000  1997          4    Petrol   \n",
       "1258  Mahindra     Verito             748370  1461          4    Diesel   \n",
       "1259  Mahindra     Verito             772617  1461          4    Diesel   \n",
       "1260  Mahindra     Verito             845154  1461          4    Diesel   \n",
       "\n",
       "      Ground_Clearance  Power  Torque    Type  ARAI_Certified_Mileage  \n",
       "0                  180     38      51  Manual                      23  \n",
       "1                  180     38      51  Manual                      23  \n",
       "3                  180     38      51    Auto                      21  \n",
       "4                  180     38      51  Manual                      23  \n",
       "5                  180     38      51    Auto                      21  \n",
       "...                ...    ...     ...     ...                     ...  \n",
       "1255               125    180     430    Auto                      11  \n",
       "1256               125    250     365    Auto                      11  \n",
       "1258               172     65     160  Manual                      21  \n",
       "1259               172     65     160  Manual                      21  \n",
       "1260               172    120     280  Manual                      21  \n",
       "\n",
       "[728 rows x 11 columns]"
      ]
     },
     "execution_count": 42,
     "metadata": {},
     "output_type": "execute_result"
    }
   ],
   "source": [
    "car"
   ]
  },
  {
   "cell_type": "code",
   "execution_count": 43,
   "id": "4eb7fcff-c8f5-4a1b-bb0a-197199abd709",
   "metadata": {},
   "outputs": [
    {
     "data": {
      "text/plain": [
       "array(['Manual', 'Auto'], dtype=object)"
      ]
     },
     "execution_count": 43,
     "metadata": {},
     "output_type": "execute_result"
    }
   ],
   "source": [
    "car[\"Type\"].unique()"
   ]
  },
  {
   "cell_type": "code",
   "execution_count": 44,
   "id": "06dfaf16-1297-4906-877f-9429878ff5aa",
   "metadata": {},
   "outputs": [
    {
     "data": {
      "text/html": [
       "<div>\n",
       "<style scoped>\n",
       "    .dataframe tbody tr th:only-of-type {\n",
       "        vertical-align: middle;\n",
       "    }\n",
       "\n",
       "    .dataframe tbody tr th {\n",
       "        vertical-align: top;\n",
       "    }\n",
       "\n",
       "    .dataframe thead th {\n",
       "        text-align: right;\n",
       "    }\n",
       "</style>\n",
       "<table border=\"1\" class=\"dataframe\">\n",
       "  <thead>\n",
       "    <tr style=\"text-align: right;\">\n",
       "      <th></th>\n",
       "      <th>Make</th>\n",
       "      <th>Model</th>\n",
       "      <th>Ex-Showroom_Price</th>\n",
       "      <th>CC</th>\n",
       "      <th>Cylinders</th>\n",
       "      <th>Fuel_Type</th>\n",
       "      <th>Ground_Clearance</th>\n",
       "      <th>Power</th>\n",
       "      <th>Torque</th>\n",
       "      <th>Type</th>\n",
       "      <th>ARAI_Certified_Mileage</th>\n",
       "    </tr>\n",
       "  </thead>\n",
       "  <tbody>\n",
       "    <tr>\n",
       "      <th>0</th>\n",
       "      <td>Tata</td>\n",
       "      <td>Nano Genx</td>\n",
       "      <td>292667</td>\n",
       "      <td>624</td>\n",
       "      <td>2</td>\n",
       "      <td>Petrol</td>\n",
       "      <td>180</td>\n",
       "      <td>38</td>\n",
       "      <td>51</td>\n",
       "      <td>Manual</td>\n",
       "      <td>23</td>\n",
       "    </tr>\n",
       "    <tr>\n",
       "      <th>1</th>\n",
       "      <td>Tata</td>\n",
       "      <td>Nano Genx</td>\n",
       "      <td>236447</td>\n",
       "      <td>624</td>\n",
       "      <td>2</td>\n",
       "      <td>Petrol</td>\n",
       "      <td>180</td>\n",
       "      <td>38</td>\n",
       "      <td>51</td>\n",
       "      <td>Manual</td>\n",
       "      <td>23</td>\n",
       "    </tr>\n",
       "    <tr>\n",
       "      <th>3</th>\n",
       "      <td>Tata</td>\n",
       "      <td>Nano Genx</td>\n",
       "      <td>334768</td>\n",
       "      <td>624</td>\n",
       "      <td>2</td>\n",
       "      <td>Petrol</td>\n",
       "      <td>180</td>\n",
       "      <td>38</td>\n",
       "      <td>51</td>\n",
       "      <td>Auto</td>\n",
       "      <td>21</td>\n",
       "    </tr>\n",
       "    <tr>\n",
       "      <th>4</th>\n",
       "      <td>Tata</td>\n",
       "      <td>Nano Genx</td>\n",
       "      <td>272223</td>\n",
       "      <td>624</td>\n",
       "      <td>2</td>\n",
       "      <td>Petrol</td>\n",
       "      <td>180</td>\n",
       "      <td>38</td>\n",
       "      <td>51</td>\n",
       "      <td>Manual</td>\n",
       "      <td>23</td>\n",
       "    </tr>\n",
       "    <tr>\n",
       "      <th>5</th>\n",
       "      <td>Tata</td>\n",
       "      <td>Nano Genx</td>\n",
       "      <td>314815</td>\n",
       "      <td>624</td>\n",
       "      <td>2</td>\n",
       "      <td>Petrol</td>\n",
       "      <td>180</td>\n",
       "      <td>38</td>\n",
       "      <td>51</td>\n",
       "      <td>Auto</td>\n",
       "      <td>21</td>\n",
       "    </tr>\n",
       "    <tr>\n",
       "      <th>...</th>\n",
       "      <td>...</td>\n",
       "      <td>...</td>\n",
       "      <td>...</td>\n",
       "      <td>...</td>\n",
       "      <td>...</td>\n",
       "      <td>...</td>\n",
       "      <td>...</td>\n",
       "      <td>...</td>\n",
       "      <td>...</td>\n",
       "      <td>...</td>\n",
       "      <td>...</td>\n",
       "    </tr>\n",
       "    <tr>\n",
       "      <th>1255</th>\n",
       "      <td>Jaguar</td>\n",
       "      <td>Xe</td>\n",
       "      <td>4633000</td>\n",
       "      <td>1999</td>\n",
       "      <td>4</td>\n",
       "      <td>Diesel</td>\n",
       "      <td>125</td>\n",
       "      <td>180</td>\n",
       "      <td>430</td>\n",
       "      <td>Auto</td>\n",
       "      <td>11</td>\n",
       "    </tr>\n",
       "    <tr>\n",
       "      <th>1256</th>\n",
       "      <td>Jaguar</td>\n",
       "      <td>Xe</td>\n",
       "      <td>4633000</td>\n",
       "      <td>1997</td>\n",
       "      <td>4</td>\n",
       "      <td>Petrol</td>\n",
       "      <td>125</td>\n",
       "      <td>250</td>\n",
       "      <td>365</td>\n",
       "      <td>Auto</td>\n",
       "      <td>11</td>\n",
       "    </tr>\n",
       "    <tr>\n",
       "      <th>1258</th>\n",
       "      <td>Mahindra</td>\n",
       "      <td>Verito</td>\n",
       "      <td>748370</td>\n",
       "      <td>1461</td>\n",
       "      <td>4</td>\n",
       "      <td>Diesel</td>\n",
       "      <td>172</td>\n",
       "      <td>65</td>\n",
       "      <td>160</td>\n",
       "      <td>Manual</td>\n",
       "      <td>21</td>\n",
       "    </tr>\n",
       "    <tr>\n",
       "      <th>1259</th>\n",
       "      <td>Mahindra</td>\n",
       "      <td>Verito</td>\n",
       "      <td>772617</td>\n",
       "      <td>1461</td>\n",
       "      <td>4</td>\n",
       "      <td>Diesel</td>\n",
       "      <td>172</td>\n",
       "      <td>65</td>\n",
       "      <td>160</td>\n",
       "      <td>Manual</td>\n",
       "      <td>21</td>\n",
       "    </tr>\n",
       "    <tr>\n",
       "      <th>1260</th>\n",
       "      <td>Mahindra</td>\n",
       "      <td>Verito</td>\n",
       "      <td>845154</td>\n",
       "      <td>1461</td>\n",
       "      <td>4</td>\n",
       "      <td>Diesel</td>\n",
       "      <td>172</td>\n",
       "      <td>120</td>\n",
       "      <td>280</td>\n",
       "      <td>Manual</td>\n",
       "      <td>21</td>\n",
       "    </tr>\n",
       "  </tbody>\n",
       "</table>\n",
       "<p>728 rows × 11 columns</p>\n",
       "</div>"
      ],
      "text/plain": [
       "          Make      Model  Ex-Showroom_Price    CC  Cylinders Fuel_Type  \\\n",
       "0         Tata  Nano Genx             292667   624          2    Petrol   \n",
       "1         Tata  Nano Genx             236447   624          2    Petrol   \n",
       "3         Tata  Nano Genx             334768   624          2    Petrol   \n",
       "4         Tata  Nano Genx             272223   624          2    Petrol   \n",
       "5         Tata  Nano Genx             314815   624          2    Petrol   \n",
       "...        ...        ...                ...   ...        ...       ...   \n",
       "1255    Jaguar         Xe            4633000  1999          4    Diesel   \n",
       "1256    Jaguar         Xe            4633000  1997          4    Petrol   \n",
       "1258  Mahindra     Verito             748370  1461          4    Diesel   \n",
       "1259  Mahindra     Verito             772617  1461          4    Diesel   \n",
       "1260  Mahindra     Verito             845154  1461          4    Diesel   \n",
       "\n",
       "      Ground_Clearance  Power  Torque    Type  ARAI_Certified_Mileage  \n",
       "0                  180     38      51  Manual                      23  \n",
       "1                  180     38      51  Manual                      23  \n",
       "3                  180     38      51    Auto                      21  \n",
       "4                  180     38      51  Manual                      23  \n",
       "5                  180     38      51    Auto                      21  \n",
       "...                ...    ...     ...     ...                     ...  \n",
       "1255               125    180     430    Auto                      11  \n",
       "1256               125    250     365    Auto                      11  \n",
       "1258               172     65     160  Manual                      21  \n",
       "1259               172     65     160  Manual                      21  \n",
       "1260               172    120     280  Manual                      21  \n",
       "\n",
       "[728 rows x 11 columns]"
      ]
     },
     "execution_count": 44,
     "metadata": {},
     "output_type": "execute_result"
    }
   ],
   "source": [
    "car"
   ]
  },
  {
   "cell_type": "code",
   "execution_count": 45,
   "id": "85e3ba1e-2435-4980-9412-c76529a3248c",
   "metadata": {},
   "outputs": [
    {
     "name": "stdout",
     "output_type": "stream",
     "text": [
      "✅ Done! Saved as final_car_with_filled_weight.csv\n"
     ]
    }
   ],
   "source": [
    "import pandas as pd\n",
    "\n",
    "# Load your dataset\n",
    "car = pd.read_csv(\"final_car_with_weight.csv\")\n",
    "\n",
    "# Define weight map\n",
    "weight_map = {\n",
    "    'Nano Genx': 735, 'Redi-Go': 800, 'Kwid': 825, 'Eeco': 940, 'Alto K10': 740, 'Go': 850,\n",
    "    'Celerio Tour': 830, 'Tiago': 930, 'Celerio X': 850, 'Ignis': 860, 'Triber': 960,\n",
    "    'Rio': 1080, 'Etios Liva': 950, 'Micra Active': 1030, 'Bolt': 1100, 'Xcent Prime': 1050,\n",
    "    'Dzire Tour': 990, 'Elite I20': 1080, 'Polo': 1050, 'Dzire': 980, 'Freestyle': 1060,\n",
    "    'Ameo': 1065, 'Platinum Etios': 1090, 'Etios Cross': 1080, 'Verito Vibe': 1140,\n",
    "    'Urban Cross': 1195, 'Avventura': 1195, 'Jazz': 1040, 'Bolero Power Plus': 1620,\n",
    "    'Vitara Brezza': 1170, 'I20 Active': 1085, 'Ecosport': 1200, 'Duster': 1235,\n",
    "    'Verna': 1155, 'Xuv300': 1320, 'Lodgy': 1360, 'Vento': 1120, 'Brv': 1205, 'Thar': 1700,\n",
    "    'Gurkha': 1900, 'Abarth Avventura': 1180, 'Scorpio': 1820, 'Monte Carlo': 1140,\n",
    "    'Xuv500': 1785, 'Hexa': 1990, 'Innova Crysta': 1805, 'Corolla Altis': 1300,\n",
    "    'Superb': 1500, 'Outlander': 1650, 'V40': 1500, 'Fortuner': 2180, 'Pajero Sport': 2150,\n",
    "    'Endeavour': 2410, 'V40 Cross Country': 1540, 'Kodiaq Scout': 1795, 'X1': 1465,\n",
    "    'S60': 1620, '3-Series': 1480, 'Accord Hybrid': 1625, 'S60 Cross Country': 1660,\n",
    "    'Prius': 1400, 'Alto': 730, 'Celerio': 830, 'Grand I10 Prime': 950, 'Kuv100 Nxt': 1085,\n",
    "    'Swift': 960, 'Altroz': 1030, 'Extreme': 1150, 'Tigor': 1035, 'Zest': 1110, 'Amaze': 940,\n",
    "    'Gypsy': 985, 'Venue': 1100, 'Nexon': 1188, 'Linea': 1210, 'Ertiga': 1150,\n",
    "    'Baleno Rs': 950, 'Wr-V': 1104, 'Tuv300': 1620, 'S-Cross': 1250, 'Captur': 1300,\n",
    "    'Xylo': 1830, 'Seltos': 1290, 'Terrano': 1240, 'Safari Storme': 2000, 'Hector': 1700,\n",
    "    'Mu-X': 1900, 'Tiguan': 1700, 'Superb Sportline': 1550, 'Kodiaq': 1800, 'Q3': 1650,\n",
    "    'Clubman': 1500, 'Omni': 785, 'Punto Evo Pure': 1050, 'Baleno': 950, 'Grand I10': 950,\n",
    "    'Linea Classic': 1210, 'Bolero': 1630, 'Ciaz': 1030, 'Rapid': 1140, 'Abarth Punto': 1100,\n",
    "    'Creta': 1240, 'Harrier': 1675, 'Dmax V-Cross': 1950, 'Cr-V': 1550, 'Alto 800 Tour': 725,\n",
    "    'Grand I10 Nios': 940, 'Xcent': 1045, 'Micra': 1030, 'Nuvosport': 1700, 'Kicks': 1300,\n",
    "    'A3': 1440, 'Tiago Nrg': 935, 'Yaris': 1120, 'Octavia': 1350, 'Avanti': 1560,\n",
    "    'Punto Evo': 1080, 'City': 1107, 'Xe': 1650, 'Verito': 1140\n",
    "}\n",
    "\n",
    "# Fill the Weight column based on the model\n",
    "car['Weight'] = car['Model'].map(weight_map)\n",
    "\n",
    "# Save the new file\n",
    "car.to_csv(\"final_car_with_filled_weight.csv\", index=False)\n",
    "print(\"✅ Done! Saved as final_car_with_filled_weight.csv\")\n"
   ]
  },
  {
   "cell_type": "code",
   "execution_count": 46,
   "id": "a3eb3fe0-9f5d-4194-84ba-6ba0b1d43016",
   "metadata": {},
   "outputs": [],
   "source": [
    "# Ensure Power column is string type\n",
    "car['Power'] = car['Power'].astype(str)\n",
    "\n",
    "# Now extract the numeric part safely\n",
    "car['BHP'] = car['Power'].str.extract(r'(\\d+)').astype(float)\n"
   ]
  },
  {
   "cell_type": "code",
   "execution_count": 47,
   "id": "e9c501da-96ae-4162-844d-a9d6b8495e00",
   "metadata": {},
   "outputs": [],
   "source": [
    "# Calculate Power-to-Weight ratio\n",
    "car['Power_to_Weight'] = (car['BHP'] / car['Weight']) * 1000\n",
    "\n",
    "# Classify performance\n",
    "def classify_performance(p2w):\n",
    "    if p2w >= 100:\n",
    "        return 'High'\n",
    "    elif p2w >= 70:\n",
    "        return 'Medium'\n",
    "    else:\n",
    "        return 'Low'\n",
    "\n",
    "car['Performance_Class'] = car['Power_to_Weight'].apply(classify_performance)\n",
    "\n",
    "# Save final CSV\n",
    "car.to_csv(\"final_car_with_performance.csv\", index=False)\n"
   ]
  },
  {
   "cell_type": "code",
   "execution_count": 48,
   "id": "ee0ce9eb-f9a9-4836-b5e1-4a44368bd994",
   "metadata": {},
   "outputs": [],
   "source": [
    "import pandas as pd\n",
    "\n",
    "car = pd.read_csv(\"final_car_with_performance.csv\")\n"
   ]
  },
  {
   "cell_type": "code",
   "execution_count": 49,
   "id": "a453a073-cf0a-4f7e-9daf-3406f1335322",
   "metadata": {},
   "outputs": [
    {
     "data": {
      "text/html": [
       "<div>\n",
       "<style scoped>\n",
       "    .dataframe tbody tr th:only-of-type {\n",
       "        vertical-align: middle;\n",
       "    }\n",
       "\n",
       "    .dataframe tbody tr th {\n",
       "        vertical-align: top;\n",
       "    }\n",
       "\n",
       "    .dataframe thead th {\n",
       "        text-align: right;\n",
       "    }\n",
       "</style>\n",
       "<table border=\"1\" class=\"dataframe\">\n",
       "  <thead>\n",
       "    <tr style=\"text-align: right;\">\n",
       "      <th></th>\n",
       "      <th>Name</th>\n",
       "      <th>Model</th>\n",
       "      <th>Ex-Showroom_Price</th>\n",
       "      <th>CC</th>\n",
       "      <th>Cylinders</th>\n",
       "      <th>Fuel_Type</th>\n",
       "      <th>Ground_Clearance</th>\n",
       "      <th>Power</th>\n",
       "      <th>Torque</th>\n",
       "      <th>Type</th>\n",
       "      <th>ARAI_Certified_Mileage</th>\n",
       "      <th>Weight</th>\n",
       "      <th>BHP</th>\n",
       "      <th>Power_to_Weight</th>\n",
       "      <th>Performance_Class</th>\n",
       "    </tr>\n",
       "  </thead>\n",
       "  <tbody>\n",
       "    <tr>\n",
       "      <th>0</th>\n",
       "      <td>Tata</td>\n",
       "      <td>Nano Genx</td>\n",
       "      <td>292667</td>\n",
       "      <td>624</td>\n",
       "      <td>2</td>\n",
       "      <td>Petrol</td>\n",
       "      <td>180</td>\n",
       "      <td>38</td>\n",
       "      <td>51</td>\n",
       "      <td>Manual</td>\n",
       "      <td>23</td>\n",
       "      <td>735</td>\n",
       "      <td>38.0</td>\n",
       "      <td>51.700680</td>\n",
       "      <td>Low</td>\n",
       "    </tr>\n",
       "    <tr>\n",
       "      <th>1</th>\n",
       "      <td>Tata</td>\n",
       "      <td>Nano Genx</td>\n",
       "      <td>236447</td>\n",
       "      <td>624</td>\n",
       "      <td>2</td>\n",
       "      <td>Petrol</td>\n",
       "      <td>180</td>\n",
       "      <td>38</td>\n",
       "      <td>51</td>\n",
       "      <td>Manual</td>\n",
       "      <td>23</td>\n",
       "      <td>735</td>\n",
       "      <td>38.0</td>\n",
       "      <td>51.700680</td>\n",
       "      <td>Low</td>\n",
       "    </tr>\n",
       "    <tr>\n",
       "      <th>2</th>\n",
       "      <td>Tata</td>\n",
       "      <td>Nano Genx</td>\n",
       "      <td>334768</td>\n",
       "      <td>624</td>\n",
       "      <td>2</td>\n",
       "      <td>Petrol</td>\n",
       "      <td>180</td>\n",
       "      <td>38</td>\n",
       "      <td>51</td>\n",
       "      <td>Auto</td>\n",
       "      <td>21</td>\n",
       "      <td>735</td>\n",
       "      <td>38.0</td>\n",
       "      <td>51.700680</td>\n",
       "      <td>Low</td>\n",
       "    </tr>\n",
       "    <tr>\n",
       "      <th>3</th>\n",
       "      <td>Tata</td>\n",
       "      <td>Nano Genx</td>\n",
       "      <td>272223</td>\n",
       "      <td>624</td>\n",
       "      <td>2</td>\n",
       "      <td>Petrol</td>\n",
       "      <td>180</td>\n",
       "      <td>38</td>\n",
       "      <td>51</td>\n",
       "      <td>Manual</td>\n",
       "      <td>23</td>\n",
       "      <td>735</td>\n",
       "      <td>38.0</td>\n",
       "      <td>51.700680</td>\n",
       "      <td>Low</td>\n",
       "    </tr>\n",
       "    <tr>\n",
       "      <th>4</th>\n",
       "      <td>Tata</td>\n",
       "      <td>Nano Genx</td>\n",
       "      <td>314815</td>\n",
       "      <td>624</td>\n",
       "      <td>2</td>\n",
       "      <td>Petrol</td>\n",
       "      <td>180</td>\n",
       "      <td>38</td>\n",
       "      <td>51</td>\n",
       "      <td>Auto</td>\n",
       "      <td>21</td>\n",
       "      <td>735</td>\n",
       "      <td>38.0</td>\n",
       "      <td>51.700680</td>\n",
       "      <td>Low</td>\n",
       "    </tr>\n",
       "    <tr>\n",
       "      <th>...</th>\n",
       "      <td>...</td>\n",
       "      <td>...</td>\n",
       "      <td>...</td>\n",
       "      <td>...</td>\n",
       "      <td>...</td>\n",
       "      <td>...</td>\n",
       "      <td>...</td>\n",
       "      <td>...</td>\n",
       "      <td>...</td>\n",
       "      <td>...</td>\n",
       "      <td>...</td>\n",
       "      <td>...</td>\n",
       "      <td>...</td>\n",
       "      <td>...</td>\n",
       "      <td>...</td>\n",
       "    </tr>\n",
       "    <tr>\n",
       "      <th>723</th>\n",
       "      <td>Jaguar</td>\n",
       "      <td>Xe</td>\n",
       "      <td>4633000</td>\n",
       "      <td>1999</td>\n",
       "      <td>4</td>\n",
       "      <td>Diesel</td>\n",
       "      <td>125</td>\n",
       "      <td>180</td>\n",
       "      <td>430</td>\n",
       "      <td>Auto</td>\n",
       "      <td>11</td>\n",
       "      <td>1650</td>\n",
       "      <td>180.0</td>\n",
       "      <td>109.090909</td>\n",
       "      <td>High</td>\n",
       "    </tr>\n",
       "    <tr>\n",
       "      <th>724</th>\n",
       "      <td>Jaguar</td>\n",
       "      <td>Xe</td>\n",
       "      <td>4633000</td>\n",
       "      <td>1997</td>\n",
       "      <td>4</td>\n",
       "      <td>Petrol</td>\n",
       "      <td>125</td>\n",
       "      <td>250</td>\n",
       "      <td>365</td>\n",
       "      <td>Auto</td>\n",
       "      <td>11</td>\n",
       "      <td>1650</td>\n",
       "      <td>250.0</td>\n",
       "      <td>151.515152</td>\n",
       "      <td>High</td>\n",
       "    </tr>\n",
       "    <tr>\n",
       "      <th>725</th>\n",
       "      <td>Mahindra</td>\n",
       "      <td>Verito</td>\n",
       "      <td>748370</td>\n",
       "      <td>1461</td>\n",
       "      <td>4</td>\n",
       "      <td>Diesel</td>\n",
       "      <td>172</td>\n",
       "      <td>65</td>\n",
       "      <td>160</td>\n",
       "      <td>Manual</td>\n",
       "      <td>21</td>\n",
       "      <td>1140</td>\n",
       "      <td>65.0</td>\n",
       "      <td>57.017544</td>\n",
       "      <td>Low</td>\n",
       "    </tr>\n",
       "    <tr>\n",
       "      <th>726</th>\n",
       "      <td>Mahindra</td>\n",
       "      <td>Verito</td>\n",
       "      <td>772617</td>\n",
       "      <td>1461</td>\n",
       "      <td>4</td>\n",
       "      <td>Diesel</td>\n",
       "      <td>172</td>\n",
       "      <td>65</td>\n",
       "      <td>160</td>\n",
       "      <td>Manual</td>\n",
       "      <td>21</td>\n",
       "      <td>1140</td>\n",
       "      <td>65.0</td>\n",
       "      <td>57.017544</td>\n",
       "      <td>Low</td>\n",
       "    </tr>\n",
       "    <tr>\n",
       "      <th>727</th>\n",
       "      <td>Mahindra</td>\n",
       "      <td>Verito</td>\n",
       "      <td>845154</td>\n",
       "      <td>1461</td>\n",
       "      <td>4</td>\n",
       "      <td>Diesel</td>\n",
       "      <td>172</td>\n",
       "      <td>120</td>\n",
       "      <td>280</td>\n",
       "      <td>Manual</td>\n",
       "      <td>21</td>\n",
       "      <td>1140</td>\n",
       "      <td>120.0</td>\n",
       "      <td>105.263158</td>\n",
       "      <td>High</td>\n",
       "    </tr>\n",
       "  </tbody>\n",
       "</table>\n",
       "<p>728 rows × 15 columns</p>\n",
       "</div>"
      ],
      "text/plain": [
       "         Name      Model  Ex-Showroom_Price    CC  Cylinders Fuel_Type  \\\n",
       "0        Tata  Nano Genx             292667   624          2    Petrol   \n",
       "1        Tata  Nano Genx             236447   624          2    Petrol   \n",
       "2        Tata  Nano Genx             334768   624          2    Petrol   \n",
       "3        Tata  Nano Genx             272223   624          2    Petrol   \n",
       "4        Tata  Nano Genx             314815   624          2    Petrol   \n",
       "..        ...        ...                ...   ...        ...       ...   \n",
       "723    Jaguar         Xe            4633000  1999          4    Diesel   \n",
       "724    Jaguar         Xe            4633000  1997          4    Petrol   \n",
       "725  Mahindra     Verito             748370  1461          4    Diesel   \n",
       "726  Mahindra     Verito             772617  1461          4    Diesel   \n",
       "727  Mahindra     Verito             845154  1461          4    Diesel   \n",
       "\n",
       "     Ground_Clearance  Power  Torque    Type  ARAI_Certified_Mileage  Weight  \\\n",
       "0                 180     38      51  Manual                      23     735   \n",
       "1                 180     38      51  Manual                      23     735   \n",
       "2                 180     38      51    Auto                      21     735   \n",
       "3                 180     38      51  Manual                      23     735   \n",
       "4                 180     38      51    Auto                      21     735   \n",
       "..                ...    ...     ...     ...                     ...     ...   \n",
       "723               125    180     430    Auto                      11    1650   \n",
       "724               125    250     365    Auto                      11    1650   \n",
       "725               172     65     160  Manual                      21    1140   \n",
       "726               172     65     160  Manual                      21    1140   \n",
       "727               172    120     280  Manual                      21    1140   \n",
       "\n",
       "       BHP  Power_to_Weight Performance_Class  \n",
       "0     38.0        51.700680               Low  \n",
       "1     38.0        51.700680               Low  \n",
       "2     38.0        51.700680               Low  \n",
       "3     38.0        51.700680               Low  \n",
       "4     38.0        51.700680               Low  \n",
       "..     ...              ...               ...  \n",
       "723  180.0       109.090909              High  \n",
       "724  250.0       151.515152              High  \n",
       "725   65.0        57.017544               Low  \n",
       "726   65.0        57.017544               Low  \n",
       "727  120.0       105.263158              High  \n",
       "\n",
       "[728 rows x 15 columns]"
      ]
     },
     "execution_count": 49,
     "metadata": {},
     "output_type": "execute_result"
    }
   ],
   "source": [
    "car"
   ]
  },
  {
   "cell_type": "code",
   "execution_count": 50,
   "id": "094af1c5-13c5-4eb7-a75d-88de9c617709",
   "metadata": {},
   "outputs": [
    {
     "name": "stdout",
     "output_type": "stream",
     "text": [
      "✅ R² Score: 0.88\n",
      "📉 Mean Squared Error: 105641126706.56\n"
     ]
    }
   ],
   "source": [
    "import pandas as pd\n",
    "from sklearn.model_selection import train_test_split\n",
    "from sklearn.preprocessing import LabelEncoder\n",
    "from sklearn.ensemble import RandomForestRegressor\n",
    "from sklearn.metrics import mean_squared_error, r2_score\n",
    "\n",
    "# Load dataset\n",
    "df = pd.read_csv(\"final_car_with_performance.csv\")\n",
    "\n",
    "# Drop nulls\n",
    "df = df.dropna(subset=['Ex-Showroom_Price', 'CC', 'Cylinders', 'Fuel_Type', 'Ground_Clearance', 'BHP', 'Type', 'ARAI_Certified_Mileage', 'Weight'])\n",
    "\n",
    "# Encode categorical features\n",
    "le_fuel = LabelEncoder()\n",
    "le_type = LabelEncoder()\n",
    "\n",
    "df['Fuel_Type'] = le_fuel.fit_transform(df['Fuel_Type'])\n",
    "df['Type'] = le_type.fit_transform(df['Type'])\n",
    "\n",
    "# Features and target\n",
    "features = ['CC', 'Cylinders', 'Fuel_Type', 'Ground_Clearance', 'BHP', 'ARAI_Certified_Mileage', 'Type', 'Weight']\n",
    "X = df[features]\n",
    "y = df['Ex-Showroom_Price']\n",
    "\n",
    "# Train-test split\n",
    "X_train, X_test, y_train, y_test = train_test_split(X, y, test_size=0.2, random_state=42)\n",
    "\n",
    "# Model training\n",
    "model = RandomForestRegressor(random_state=42)\n",
    "model.fit(X_train, y_train)\n",
    "\n",
    "# Evaluation\n",
    "y_pred = model.predict(X_test)\n",
    "r2 = r2_score(y_test, y_pred)\n",
    "mse = mean_squared_error(y_test, y_pred)\n",
    "\n",
    "print(f\"✅ R² Score: {r2:.2f}\")\n",
    "print(f\"📉 Mean Squared Error: {mse:.2f}\")\n"
   ]
  },
  {
   "cell_type": "code",
   "execution_count": 51,
   "id": "deef1962-f582-4220-9627-9ac54ad5d915",
   "metadata": {},
   "outputs": [
    {
     "name": "stdout",
     "output_type": "stream",
     "text": [
      "🧮 Root Mean Squared Error: ₹325,024.81\n"
     ]
    }
   ],
   "source": [
    "import numpy as np\n",
    "rmse = np.sqrt(mse)\n",
    "print(f\"🧮 Root Mean Squared Error: ₹{rmse:,.2f}\")\n"
   ]
  },
  {
   "cell_type": "code",
   "execution_count": 52,
   "id": "d0a7a71e-5a30-4827-b7bb-aa1c93f03959",
   "metadata": {},
   "outputs": [
    {
     "name": "stdout",
     "output_type": "stream",
     "text": [
      "💸 Predicted Ex-Showroom Price: ₹633,440\n",
      "\n",
      "🚗 Cars you might like in this price range:\n",
      "\n",
      "              Name       Model  Ex-Showroom_Price Fuel_Type   BHP    Type\n",
      "105        Hyundai   Elite I20             634950    Petrol  84.0  Manual\n",
      "708           Fiat   Punto Evo             631292    Diesel  76.0  Manual\n",
      "382       Mahindra  Kuv100 Nxt             631146    Petrol  82.0  Manual\n",
      "375       Mahindra  Kuv100 Nxt             631144    Petrol  82.0  Manual\n",
      "61   Maruti Suzuki       Ignis             630320    Petrol  83.0    Auto\n"
     ]
    },
    {
     "name": "stderr",
     "output_type": "stream",
     "text": [
      "C:\\Users\\bhagw\\AppData\\Roaming\\Python\\Python310\\site-packages\\sklearn\\utils\\validation.py:2749: UserWarning: X does not have valid feature names, but RandomForestRegressor was fitted with feature names\n",
      "  warnings.warn(\n",
      "C:\\Users\\bhagw\\AppData\\Local\\Temp\\ipykernel_14160\\1683928623.py:45: SettingWithCopyWarning: \n",
      "A value is trying to be set on a copy of a slice from a DataFrame.\n",
      "Try using .loc[row_indexer,col_indexer] = value instead\n",
      "\n",
      "See the caveats in the documentation: https://pandas.pydata.org/pandas-docs/stable/user_guide/indexing.html#returning-a-view-versus-a-copy\n",
      "  suggested_cars['Price_Diff'] = abs(suggested_cars['Ex-Showroom_Price'] - predicted_price)\n"
     ]
    }
   ],
   "source": [
    "# 🔮 Sample user input\n",
    "user_input = {\n",
    "    'CC': 1197,\n",
    "    'Cylinders': 3,\n",
    "    'Fuel_Type': 'Petrol',\n",
    "    'Ground_Clearance': 170,\n",
    "    'BHP': 83,\n",
    "    'ARAI_Certified_Mileage': 20.0,\n",
    "    'Type': 'Manual',\n",
    "    'Weight': 950\n",
    "}\n",
    "\n",
    "\n",
    "# ✨ Encode categorical features\n",
    "fuel_encoded = le_fuel.transform([user_input['Fuel_Type']])[0]\n",
    "type_encoded = le_type.transform([user_input['Type']])[0]\n",
    "\n",
    "# 🔄 Create feature array\n",
    "X_new = [[\n",
    "    user_input['CC'],\n",
    "    user_input['Cylinders'],\n",
    "    fuel_encoded,\n",
    "    user_input['Ground_Clearance'],\n",
    "    user_input['BHP'],\n",
    "    user_input['ARAI_Certified_Mileage'],\n",
    "    type_encoded,\n",
    "    user_input['Weight']\n",
    "]]\n",
    "\n",
    "# 💸 Predict the price\n",
    "predicted_price = model.predict(X_new)[0]\n",
    "print(f\"💸 Predicted Ex-Showroom Price: ₹{predicted_price:,.0f}\")\n",
    "# 💡 Suggest similar cars within ±₹50,000 of predicted price\n",
    "price_range = 50000  # You can increase/decrease this\n",
    "lower_limit = predicted_price - price_range\n",
    "upper_limit = predicted_price + price_range\n",
    "\n",
    "# Filter dataset for cars in that price range\n",
    "suggested_cars = car[\n",
    "    (car['Ex-Showroom_Price'] >= lower_limit) &\n",
    "    (car['Ex-Showroom_Price'] <= upper_limit)\n",
    "]\n",
    "\n",
    "# Sort by how close the price is to prediction\n",
    "suggested_cars['Price_Diff'] = abs(suggested_cars['Ex-Showroom_Price'] - predicted_price)\n",
    "suggested_cars = suggested_cars.sort_values('Price_Diff')\n",
    "\n",
    "# 🖨️ Show top 5 recommendations\n",
    "print(\"\\n🚗 Cars you might like in this price range:\\n\")\n",
    "print(suggested_cars[['Name', 'Model', 'Ex-Showroom_Price', 'Fuel_Type', 'BHP', 'Type']].head(5))\n",
    "\n"
   ]
  },
  {
   "cell_type": "code",
   "execution_count": 53,
   "id": "e945532f-aae6-41aa-a112-ed6dbd528eec",
   "metadata": {},
   "outputs": [
    {
     "name": "stdout",
     "output_type": "stream",
     "text": [
      "Defaulting to user installation because normal site-packages is not writeable\n",
      "Requirement already satisfied: joblib in c:\\users\\bhagw\\appdata\\roaming\\python\\python310\\site-packages (1.5.1)\n",
      "Note: you may need to restart the kernel to use updated packages.\n"
     ]
    }
   ],
   "source": [
    "pip install joblib\n"
   ]
  },
  {
   "cell_type": "code",
   "execution_count": 54,
   "id": "f501defa-3229-4195-a4e6-10519d2526ee",
   "metadata": {},
   "outputs": [
    {
     "data": {
      "text/plain": [
       "['type_encoder.pkl']"
      ]
     },
     "execution_count": 54,
     "metadata": {},
     "output_type": "execute_result"
    }
   ],
   "source": [
    "import joblib\n",
    "\n",
    "# Save model\n",
    "joblib.dump(model, 'car_price_model.pkl')\n",
    "\n",
    "# Save label encoders\n",
    "joblib.dump(le_fuel, 'fuel_encoder.pkl')\n",
    "joblib.dump(le_type, 'type_encoder.pkl')\n"
   ]
  },
  {
   "cell_type": "code",
   "execution_count": null,
   "id": "ab7655f6-f0c7-4996-9b3b-db08b37771ad",
   "metadata": {},
   "outputs": [],
   "source": []
  },
  {
   "cell_type": "markdown",
   "id": "ffa820a3",
   "metadata": {},
   "source": [
    "## 🤖 Model Training\n",
    "\n",
    "We will use a simple Linear Regression model to predict the car prices."
   ]
  },
  {
   "cell_type": "markdown",
   "id": "addce022",
   "metadata": {},
   "source": [
    "## 📊 Model Evaluation\n",
    "\n",
    "We will evaluate the model using R² Score to measure its accuracy."
   ]
  },
  {
   "cell_type": "markdown",
   "id": "dedc8cd7",
   "metadata": {},
   "source": [
    "## ✅ Conclusion\n",
    "\n",
    "This notebook successfully demonstrates a car price prediction pipeline using Linear Regression. Further improvement can be achieved using advanced regression algorithms and hyperparameter tuning."
   ]
  }
 ],
 "metadata": {
  "kernelspec": {
   "display_name": "Python 3 (ipykernel)",
   "language": "python",
   "name": "python3"
  },
  "language_info": {
   "codemirror_mode": {
    "name": "ipython",
    "version": 3
   },
   "file_extension": ".py",
   "mimetype": "text/x-python",
   "name": "python",
   "nbconvert_exporter": "python",
   "pygments_lexer": "ipython3",
   "version": "3.10.11"
  }
 },
 "nbformat": 4,
 "nbformat_minor": 5
}
